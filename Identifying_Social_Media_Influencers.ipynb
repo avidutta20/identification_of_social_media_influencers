{
  "nbformat": 4,
  "nbformat_minor": 0,
  "metadata": {
    "colab": {
      "name": "Identifying_Social_Media_Influencers.ipynb",
      "provenance": [],
      "collapsed_sections": [],
      "toc_visible": true
    },
    "kernelspec": {
      "name": "python3",
      "display_name": "Python 3"
    }
  },
  "cells": [
    {
      "cell_type": "markdown",
      "metadata": {
        "id": "7_m7tAFvw90M"
      },
      "source": [
        "# Indentifying Social Media Influencers from Tweets\n",
        "\n",
        "# Skills\n",
        "* ### Statistical Analysis\n",
        "* ### Supervised Learning\n",
        "  * Random Forest Classifier\n",
        "  * Gradient Boost Classifier\n",
        "  * Stochiastic Gradient Boost Classifier\n",
        "  \n",
        "* ### Predictive Analysis\n",
        "\n",
        "* ### Programming\n",
        "*   **Language :**   Python\n",
        "*   **Libraries:** \n",
        "   * Scikit-learn\n",
        "   * matplotlib\n",
        "   * seaborn\n",
        "   * pandas\n",
        "   * numpy\n",
        "\n"
      ]
    },
    {
      "cell_type": "code",
      "metadata": {
        "id": "YulnNSXIxxZv"
      },
      "source": [
        "# Importing Libraries\n",
        "import pandas as pd\n",
        "import numpy as np\n",
        "\n",
        "# Data Preprocessing\n",
        "from sklearn.preprocessing import StandardScaler, LabelEncoder\n",
        "from sklearn.model_selection import train_test_split\n",
        "\n",
        "\n",
        "# Visualization\n",
        "import matplotlib as mpl\n",
        "from matplotlib import pyplot as plt\n",
        "import seaborn as sns\n",
        "%matplotlib inline\n",
        "\n",
        "# Models Defination\n",
        "from sklearn.ensemble import RandomForestClassifier\n",
        "from sklearn.ensemble import GradientBoostingClassifier\n",
        "from sklearn.svm import SVC\n",
        "\n",
        "# Metrics\n",
        "from sklearn.metrics import accuracy_score, precision_score, plot_confusion_matrix\n"
      ],
      "execution_count": 140,
      "outputs": []
    },
    {
      "cell_type": "code",
      "metadata": {
        "id": "-873FiU8Vssb"
      },
      "source": [
        "# !wget https://github.com/avidutta20/identification_of_social_media_influencers/blob/main/Dataset/train_sample.csv\n",
        "# !wget https://github.com/avidutta20/identification_of_social_media_influencers/blob/main/Dataset/test_sample.csv\n",
        "# !wget https://github.com/avidutta20/identification_of_social_media_influencers/blob/main/Dataset/sample_predictions_p.csv"
      ],
      "execution_count": 141,
      "outputs": []
    },
    {
      "cell_type": "code",
      "metadata": {
        "id": "0lozNxK38dMZ"
      },
      "source": [
        "np.set_printoptions(precision=4)\n",
        "np.random.seed(100)\n",
        "pd.set_option(\"display.precision\",4)\n"
      ],
      "execution_count": 142,
      "outputs": []
    },
    {
      "cell_type": "code",
      "metadata": {
        "colab": {
          "base_uri": "https://localhost:8080/",
          "height": 439
        },
        "id": "-4uEsuPGkm5f",
        "outputId": "e1fa0a35-1fa3-47c0-b899-87fea9640924"
      },
      "source": [
        "traindf = pd.read_csv('/content/train_sample.csv',sep=',', header = [0])\n",
        "testdf = pd.read_csv('/content/test_sample.csv',sep=',', header = [0])\n",
        "testdf"
      ],
      "execution_count": 143,
      "outputs": [
        {
          "output_type": "execute_result",
          "data": {
            "text/html": [
              "<div>\n",
              "<style scoped>\n",
              "    .dataframe tbody tr th:only-of-type {\n",
              "        vertical-align: middle;\n",
              "    }\n",
              "\n",
              "    .dataframe tbody tr th {\n",
              "        vertical-align: top;\n",
              "    }\n",
              "\n",
              "    .dataframe thead th {\n",
              "        text-align: right;\n",
              "    }\n",
              "</style>\n",
              "<table border=\"1\" class=\"dataframe\">\n",
              "  <thead>\n",
              "    <tr style=\"text-align: right;\">\n",
              "      <th></th>\n",
              "      <th>A_follower_count</th>\n",
              "      <th>A_following_count</th>\n",
              "      <th>A_listed_count</th>\n",
              "      <th>A_mentions_received</th>\n",
              "      <th>A_retweets_received</th>\n",
              "      <th>A_mentions_sent</th>\n",
              "      <th>A_retweets_sent</th>\n",
              "      <th>A_posts</th>\n",
              "      <th>A_network_feature_1</th>\n",
              "      <th>A_network_feature_2</th>\n",
              "      <th>A_network_feature_3</th>\n",
              "      <th>B_follower_count</th>\n",
              "      <th>B_following_count</th>\n",
              "      <th>B_listed_count</th>\n",
              "      <th>B_mentions_received</th>\n",
              "      <th>B_retweets_received</th>\n",
              "      <th>B_mentions_sent</th>\n",
              "      <th>B_retweets_sent</th>\n",
              "      <th>B_posts</th>\n",
              "      <th>B_network_feature_1</th>\n",
              "      <th>B_network_feature_2</th>\n",
              "      <th>B_network_feature_3</th>\n",
              "    </tr>\n",
              "  </thead>\n",
              "  <tbody>\n",
              "    <tr>\n",
              "      <th>0</th>\n",
              "      <td>614689</td>\n",
              "      <td>400</td>\n",
              "      <td>5729</td>\n",
              "      <td>199.6183</td>\n",
              "      <td>67.8125</td>\n",
              "      <td>9.3662</td>\n",
              "      <td>0.3595</td>\n",
              "      <td>4.0945</td>\n",
              "      <td>669</td>\n",
              "      <td>39.1937</td>\n",
              "      <td>2565.6125</td>\n",
              "      <td>1404323</td>\n",
              "      <td>563</td>\n",
              "      <td>20057</td>\n",
              "      <td>967.7206</td>\n",
              "      <td>579.4311</td>\n",
              "      <td>4.4738</td>\n",
              "      <td>0.8057</td>\n",
              "      <td>6.2418</td>\n",
              "      <td>4027</td>\n",
              "      <td>57.6438</td>\n",
              "      <td>3201.2937</td>\n",
              "    </tr>\n",
              "    <tr>\n",
              "      <th>1</th>\n",
              "      <td>739581</td>\n",
              "      <td>10723</td>\n",
              "      <td>1279</td>\n",
              "      <td>102.0268</td>\n",
              "      <td>96.7713</td>\n",
              "      <td>1.5373</td>\n",
              "      <td>1.0544</td>\n",
              "      <td>3.4678</td>\n",
              "      <td>432</td>\n",
              "      <td>11.1917</td>\n",
              "      <td>966.1940</td>\n",
              "      <td>756715</td>\n",
              "      <td>12949</td>\n",
              "      <td>1311</td>\n",
              "      <td>38.2605</td>\n",
              "      <td>10.6976</td>\n",
              "      <td>12.8458</td>\n",
              "      <td>1.5843</td>\n",
              "      <td>12.1067</td>\n",
              "      <td>144</td>\n",
              "      <td>209.7172</td>\n",
              "      <td>21496.5655</td>\n",
              "    </tr>\n",
              "    <tr>\n",
              "      <th>2</th>\n",
              "      <td>3638</td>\n",
              "      <td>3341</td>\n",
              "      <td>85</td>\n",
              "      <td>2.7936</td>\n",
              "      <td>1.4027</td>\n",
              "      <td>2.5941</td>\n",
              "      <td>0.5982</td>\n",
              "      <td>3.8021</td>\n",
              "      <td>11</td>\n",
              "      <td>9.4167</td>\n",
              "      <td>489.0833</td>\n",
              "      <td>488750</td>\n",
              "      <td>320</td>\n",
              "      <td>3673</td>\n",
              "      <td>1207.1901</td>\n",
              "      <td>599.7216</td>\n",
              "      <td>0.8420</td>\n",
              "      <td>0.5932</td>\n",
              "      <td>7.0447</td>\n",
              "      <td>3918</td>\n",
              "      <td>7.8598</td>\n",
              "      <td>637.9833</td>\n",
              "    </tr>\n",
              "    <tr>\n",
              "      <th>3</th>\n",
              "      <td>613</td>\n",
              "      <td>1259</td>\n",
              "      <td>31</td>\n",
              "      <td>1.3260</td>\n",
              "      <td>0.3569</td>\n",
              "      <td>6.2497</td>\n",
              "      <td>2.3231</td>\n",
              "      <td>7.4881</td>\n",
              "      <td>4</td>\n",
              "      <td>5.0000</td>\n",
              "      <td>275.0000</td>\n",
              "      <td>13456</td>\n",
              "      <td>3599</td>\n",
              "      <td>1072</td>\n",
              "      <td>10.3002</td>\n",
              "      <td>3.8286</td>\n",
              "      <td>1.6241</td>\n",
              "      <td>0.1005</td>\n",
              "      <td>1.6143</td>\n",
              "      <td>43</td>\n",
              "      <td>113.8409</td>\n",
              "      <td>2537.7727</td>\n",
              "    </tr>\n",
              "    <tr>\n",
              "      <th>4</th>\n",
              "      <td>1352348</td>\n",
              "      <td>331</td>\n",
              "      <td>15647</td>\n",
              "      <td>19129.8487</td>\n",
              "      <td>14552.7340</td>\n",
              "      <td>2.0654</td>\n",
              "      <td>0.5810</td>\n",
              "      <td>16.2815</td>\n",
              "      <td>52580</td>\n",
              "      <td>3.0924</td>\n",
              "      <td>597.5636</td>\n",
              "      <td>1481379</td>\n",
              "      <td>147521</td>\n",
              "      <td>15043</td>\n",
              "      <td>9902.0704</td>\n",
              "      <td>5012.0559</td>\n",
              "      <td>10.4385</td>\n",
              "      <td>0.1005</td>\n",
              "      <td>193.0724</td>\n",
              "      <td>28564</td>\n",
              "      <td>10.9641</td>\n",
              "      <td>1035.9555</td>\n",
              "    </tr>\n",
              "    <tr>\n",
              "      <th>...</th>\n",
              "      <td>...</td>\n",
              "      <td>...</td>\n",
              "      <td>...</td>\n",
              "      <td>...</td>\n",
              "      <td>...</td>\n",
              "      <td>...</td>\n",
              "      <td>...</td>\n",
              "      <td>...</td>\n",
              "      <td>...</td>\n",
              "      <td>...</td>\n",
              "      <td>...</td>\n",
              "      <td>...</td>\n",
              "      <td>...</td>\n",
              "      <td>...</td>\n",
              "      <td>...</td>\n",
              "      <td>...</td>\n",
              "      <td>...</td>\n",
              "      <td>...</td>\n",
              "      <td>...</td>\n",
              "      <td>...</td>\n",
              "      <td>...</td>\n",
              "      <td>...</td>\n",
              "    </tr>\n",
              "    <tr>\n",
              "      <th>5947</th>\n",
              "      <td>614689</td>\n",
              "      <td>400</td>\n",
              "      <td>5729</td>\n",
              "      <td>199.6183</td>\n",
              "      <td>67.8125</td>\n",
              "      <td>9.3662</td>\n",
              "      <td>0.3595</td>\n",
              "      <td>4.0945</td>\n",
              "      <td>669</td>\n",
              "      <td>39.1937</td>\n",
              "      <td>2565.6125</td>\n",
              "      <td>3302480</td>\n",
              "      <td>550744</td>\n",
              "      <td>20006</td>\n",
              "      <td>936.6361</td>\n",
              "      <td>206.1018</td>\n",
              "      <td>41.3172</td>\n",
              "      <td>0.5960</td>\n",
              "      <td>42.8137</td>\n",
              "      <td>3691</td>\n",
              "      <td>69.1509</td>\n",
              "      <td>3456.0961</td>\n",
              "    </tr>\n",
              "    <tr>\n",
              "      <th>5948</th>\n",
              "      <td>3764</td>\n",
              "      <td>703</td>\n",
              "      <td>222</td>\n",
              "      <td>5.2706</td>\n",
              "      <td>1.6012</td>\n",
              "      <td>2.3383</td>\n",
              "      <td>0.1005</td>\n",
              "      <td>1.5965</td>\n",
              "      <td>18</td>\n",
              "      <td>139.4444</td>\n",
              "      <td>4573.8889</td>\n",
              "      <td>28613</td>\n",
              "      <td>3557</td>\n",
              "      <td>9</td>\n",
              "      <td>0.7514</td>\n",
              "      <td>0.2960</td>\n",
              "      <td>0.1005</td>\n",
              "      <td>0.1005</td>\n",
              "      <td>0.1005</td>\n",
              "      <td>3</td>\n",
              "      <td>2.6667</td>\n",
              "      <td>218.3333</td>\n",
              "    </tr>\n",
              "    <tr>\n",
              "      <th>5949</th>\n",
              "      <td>1611042</td>\n",
              "      <td>936</td>\n",
              "      <td>10346</td>\n",
              "      <td>388.0933</td>\n",
              "      <td>65.7190</td>\n",
              "      <td>2.0870</td>\n",
              "      <td>0.3493</td>\n",
              "      <td>1.0963</td>\n",
              "      <td>1637</td>\n",
              "      <td>35.5006</td>\n",
              "      <td>3538.0893</td>\n",
              "      <td>871652</td>\n",
              "      <td>140</td>\n",
              "      <td>13838</td>\n",
              "      <td>133.2133</td>\n",
              "      <td>56.0277</td>\n",
              "      <td>2.6226</td>\n",
              "      <td>1.1212</td>\n",
              "      <td>2.6226</td>\n",
              "      <td>562</td>\n",
              "      <td>135.1585</td>\n",
              "      <td>5187.5000</td>\n",
              "    </tr>\n",
              "    <tr>\n",
              "      <th>5950</th>\n",
              "      <td>631958</td>\n",
              "      <td>674</td>\n",
              "      <td>7522</td>\n",
              "      <td>614.9687</td>\n",
              "      <td>329.3301</td>\n",
              "      <td>4.0523</td>\n",
              "      <td>1.3406</td>\n",
              "      <td>12.3050</td>\n",
              "      <td>2536</td>\n",
              "      <td>35.8387</td>\n",
              "      <td>2231.5690</td>\n",
              "      <td>580544</td>\n",
              "      <td>2799</td>\n",
              "      <td>7371</td>\n",
              "      <td>296.9782</td>\n",
              "      <td>135.8314</td>\n",
              "      <td>15.0330</td>\n",
              "      <td>4.8072</td>\n",
              "      <td>8.2621</td>\n",
              "      <td>1201</td>\n",
              "      <td>87.1838</td>\n",
              "      <td>3547.7823</td>\n",
              "    </tr>\n",
              "    <tr>\n",
              "      <th>5951</th>\n",
              "      <td>2307845</td>\n",
              "      <td>329</td>\n",
              "      <td>12580</td>\n",
              "      <td>530.0849</td>\n",
              "      <td>189.9477</td>\n",
              "      <td>4.8277</td>\n",
              "      <td>0.1005</td>\n",
              "      <td>3.1304</td>\n",
              "      <td>2164</td>\n",
              "      <td>80.9148</td>\n",
              "      <td>9278.5123</td>\n",
              "      <td>2208080</td>\n",
              "      <td>240</td>\n",
              "      <td>39725</td>\n",
              "      <td>1404.4363</td>\n",
              "      <td>431.1039</td>\n",
              "      <td>2.5967</td>\n",
              "      <td>0.1005</td>\n",
              "      <td>5.5595</td>\n",
              "      <td>5748</td>\n",
              "      <td>75.8786</td>\n",
              "      <td>2812.6686</td>\n",
              "    </tr>\n",
              "  </tbody>\n",
              "</table>\n",
              "<p>5952 rows × 22 columns</p>\n",
              "</div>"
            ],
            "text/plain": [
              "      A_follower_count  ...  B_network_feature_3\n",
              "0               614689  ...            3201.2937\n",
              "1               739581  ...           21496.5655\n",
              "2                 3638  ...             637.9833\n",
              "3                  613  ...            2537.7727\n",
              "4              1352348  ...            1035.9555\n",
              "...                ...  ...                  ...\n",
              "5947            614689  ...            3456.0961\n",
              "5948              3764  ...             218.3333\n",
              "5949           1611042  ...            5187.5000\n",
              "5950            631958  ...            3547.7823\n",
              "5951           2307845  ...            2812.6686\n",
              "\n",
              "[5952 rows x 22 columns]"
            ]
          },
          "metadata": {
            "tags": []
          },
          "execution_count": 143
        }
      ]
    },
    {
      "cell_type": "code",
      "metadata": {
        "colab": {
          "base_uri": "https://localhost:8080/"
        },
        "id": "UdW-F8VziCy-",
        "outputId": "10c0153a-fb7a-4ca7-d52d-86c39b396148"
      },
      "source": [
        "traindf.info()"
      ],
      "execution_count": 144,
      "outputs": [
        {
          "output_type": "stream",
          "text": [
            "<class 'pandas.core.frame.DataFrame'>\n",
            "RangeIndex: 5500 entries, 0 to 5499\n",
            "Data columns (total 23 columns):\n",
            " #   Column               Non-Null Count  Dtype  \n",
            "---  ------               --------------  -----  \n",
            " 0   Choice               5500 non-null   int64  \n",
            " 1   A_follower_count     5500 non-null   int64  \n",
            " 2   A_following_count    5500 non-null   int64  \n",
            " 3   A_listed_count       5500 non-null   int64  \n",
            " 4   A_mentions_received  5500 non-null   float64\n",
            " 5   A_retweets_received  5500 non-null   float64\n",
            " 6   A_mentions_sent      5500 non-null   float64\n",
            " 7   A_retweets_sent      5500 non-null   float64\n",
            " 8   A_posts              5500 non-null   float64\n",
            " 9   A_network_feature_1  5500 non-null   int64  \n",
            " 10  A_network_feature_2  5500 non-null   float64\n",
            " 11  A_network_feature_3  5500 non-null   float64\n",
            " 12  B_follower_count     5500 non-null   int64  \n",
            " 13  B_following_count    5500 non-null   int64  \n",
            " 14  B_listed_count       5500 non-null   int64  \n",
            " 15  B_mentions_received  5500 non-null   float64\n",
            " 16  B_retweets_received  5500 non-null   float64\n",
            " 17  B_mentions_sent      5500 non-null   float64\n",
            " 18  B_retweets_sent      5500 non-null   float64\n",
            " 19  B_posts              5500 non-null   float64\n",
            " 20  B_network_feature_1  5500 non-null   int64  \n",
            " 21  B_network_feature_2  5500 non-null   float64\n",
            " 22  B_network_feature_3  5500 non-null   float64\n",
            "dtypes: float64(14), int64(9)\n",
            "memory usage: 988.4 KB\n"
          ],
          "name": "stdout"
        }
      ]
    },
    {
      "cell_type": "markdown",
      "metadata": {
        "id": "a4iMkX8-1Wct"
      },
      "source": [
        "# Problem Discussion\n",
        "\n",
        "\n",
        "We have to build a model which can predict who is more influential when a inputs for a person is given.\n",
        "\n",
        "The Target variable i.e 'Choice' variable shows between A & B who is more influencial ( 0 for A and 1 for B). This has been choosen by humans.\n",
        "\n",
        "Here the dataset has two multilevel features\n",
        "* if Choice = 0 Select A\n",
        "* if Choice = 1 Select B\n",
        "\n",
        "This is a ***Binary Classification*** problem\n",
        "\n",
        "## Model Training process:\n",
        "\n",
        "* Model A = Trains model to *Classify A or B* using all features\n",
        "\n",
        "* Model B = Trains model to *Classify B* using important features\n",
        "\n"
      ]
    },
    {
      "cell_type": "code",
      "metadata": {
        "id": "DAzXWtMmk12K"
      },
      "source": [
        "# Defining predictors and target \n",
        "predictors = list(traindf.columns[1:])  # List of column names to used in prediction\n",
        "target = [traindf.columns[0]]  # Traget column name"
      ],
      "execution_count": 145,
      "outputs": []
    },
    {
      "cell_type": "markdown",
      "metadata": {
        "id": "tXGw7BN74mP5"
      },
      "source": [
        "## Model A\n",
        "This model will use all Features"
      ]
    },
    {
      "cell_type": "code",
      "metadata": {
        "id": "OlnpiMni4l0J"
      },
      "source": [
        ""
      ],
      "execution_count": 145,
      "outputs": []
    },
    {
      "cell_type": "code",
      "metadata": {
        "colab": {
          "base_uri": "https://localhost:8080/",
          "height": 439
        },
        "id": "VTsBgiPh6D1T",
        "outputId": "dfe69c28-6b0d-438b-dc4d-936a16d880f4"
      },
      "source": [
        "# Separating train and test \n",
        "ax_train, ax_test, ay_train, ay_test = train_test_split(traindf[predictors], traindf[target], test_size = 0.25, random_state = 100)\n",
        "ax_train"
      ],
      "execution_count": 146,
      "outputs": [
        {
          "output_type": "execute_result",
          "data": {
            "text/html": [
              "<div>\n",
              "<style scoped>\n",
              "    .dataframe tbody tr th:only-of-type {\n",
              "        vertical-align: middle;\n",
              "    }\n",
              "\n",
              "    .dataframe tbody tr th {\n",
              "        vertical-align: top;\n",
              "    }\n",
              "\n",
              "    .dataframe thead th {\n",
              "        text-align: right;\n",
              "    }\n",
              "</style>\n",
              "<table border=\"1\" class=\"dataframe\">\n",
              "  <thead>\n",
              "    <tr style=\"text-align: right;\">\n",
              "      <th></th>\n",
              "      <th>A_follower_count</th>\n",
              "      <th>A_following_count</th>\n",
              "      <th>A_listed_count</th>\n",
              "      <th>A_mentions_received</th>\n",
              "      <th>A_retweets_received</th>\n",
              "      <th>A_mentions_sent</th>\n",
              "      <th>A_retweets_sent</th>\n",
              "      <th>A_posts</th>\n",
              "      <th>A_network_feature_1</th>\n",
              "      <th>A_network_feature_2</th>\n",
              "      <th>A_network_feature_3</th>\n",
              "      <th>B_follower_count</th>\n",
              "      <th>B_following_count</th>\n",
              "      <th>B_listed_count</th>\n",
              "      <th>B_mentions_received</th>\n",
              "      <th>B_retweets_received</th>\n",
              "      <th>B_mentions_sent</th>\n",
              "      <th>B_retweets_sent</th>\n",
              "      <th>B_posts</th>\n",
              "      <th>B_network_feature_1</th>\n",
              "      <th>B_network_feature_2</th>\n",
              "      <th>B_network_feature_3</th>\n",
              "    </tr>\n",
              "  </thead>\n",
              "  <tbody>\n",
              "    <tr>\n",
              "      <th>2264</th>\n",
              "      <td>541611</td>\n",
              "      <td>2140</td>\n",
              "      <td>10406</td>\n",
              "      <td>2418.3699</td>\n",
              "      <td>981.4599</td>\n",
              "      <td>13.9256</td>\n",
              "      <td>0.1005</td>\n",
              "      <td>32.9730</td>\n",
              "      <td>8550</td>\n",
              "      <td>59.1202</td>\n",
              "      <td>4861.4109</td>\n",
              "      <td>314</td>\n",
              "      <td>398</td>\n",
              "      <td>11</td>\n",
              "      <td>2.9118</td>\n",
              "      <td>0.5035</td>\n",
              "      <td>1.5463</td>\n",
              "      <td>0.3324</td>\n",
              "      <td>1.3338</td>\n",
              "      <td>9</td>\n",
              "      <td>16.1111</td>\n",
              "      <td>495.7778</td>\n",
              "    </tr>\n",
              "    <tr>\n",
              "      <th>1169</th>\n",
              "      <td>15385</td>\n",
              "      <td>673</td>\n",
              "      <td>747</td>\n",
              "      <td>55.9935</td>\n",
              "      <td>22.3219</td>\n",
              "      <td>6.9462</td>\n",
              "      <td>0.3419</td>\n",
              "      <td>6.5040</td>\n",
              "      <td>202</td>\n",
              "      <td>152.4951</td>\n",
              "      <td>3286.6176</td>\n",
              "      <td>3525</td>\n",
              "      <td>3115</td>\n",
              "      <td>131</td>\n",
              "      <td>0.1005</td>\n",
              "      <td>0.1005</td>\n",
              "      <td>0.1005</td>\n",
              "      <td>0.1005</td>\n",
              "      <td>0.1005</td>\n",
              "      <td>0</td>\n",
              "      <td>0.0000</td>\n",
              "      <td>0.0000</td>\n",
              "    </tr>\n",
              "    <tr>\n",
              "      <th>1087</th>\n",
              "      <td>1221</td>\n",
              "      <td>313</td>\n",
              "      <td>105</td>\n",
              "      <td>0.3675</td>\n",
              "      <td>0.3675</td>\n",
              "      <td>0.1005</td>\n",
              "      <td>0.1005</td>\n",
              "      <td>0.1005</td>\n",
              "      <td>1</td>\n",
              "      <td>9.0000</td>\n",
              "      <td>1096.0000</td>\n",
              "      <td>163145</td>\n",
              "      <td>906</td>\n",
              "      <td>4475</td>\n",
              "      <td>182.1756</td>\n",
              "      <td>78.0432</td>\n",
              "      <td>11.6077</td>\n",
              "      <td>3.5900</td>\n",
              "      <td>9.6052</td>\n",
              "      <td>688</td>\n",
              "      <td>82.9387</td>\n",
              "      <td>1809.6505</td>\n",
              "    </tr>\n",
              "    <tr>\n",
              "      <th>946</th>\n",
              "      <td>242529</td>\n",
              "      <td>7561</td>\n",
              "      <td>3702</td>\n",
              "      <td>242.6336</td>\n",
              "      <td>106.6764</td>\n",
              "      <td>7.1983</td>\n",
              "      <td>2.0405</td>\n",
              "      <td>10.0739</td>\n",
              "      <td>894</td>\n",
              "      <td>63.0990</td>\n",
              "      <td>8653.0656</td>\n",
              "      <td>11427</td>\n",
              "      <td>1951</td>\n",
              "      <td>1069</td>\n",
              "      <td>31.2019</td>\n",
              "      <td>9.4677</td>\n",
              "      <td>12.7086</td>\n",
              "      <td>1.0914</td>\n",
              "      <td>16.9942</td>\n",
              "      <td>126</td>\n",
              "      <td>322.8425</td>\n",
              "      <td>6522.9921</td>\n",
              "    </tr>\n",
              "    <tr>\n",
              "      <th>774</th>\n",
              "      <td>2203</td>\n",
              "      <td>460</td>\n",
              "      <td>160</td>\n",
              "      <td>3.8483</td>\n",
              "      <td>0.7111</td>\n",
              "      <td>3.5850</td>\n",
              "      <td>2.5737</td>\n",
              "      <td>3.2884</td>\n",
              "      <td>18</td>\n",
              "      <td>62.5000</td>\n",
              "      <td>881.4444</td>\n",
              "      <td>6186</td>\n",
              "      <td>960</td>\n",
              "      <td>367</td>\n",
              "      <td>6.1521</td>\n",
              "      <td>1.0899</td>\n",
              "      <td>0.1005</td>\n",
              "      <td>0.1005</td>\n",
              "      <td>0.1005</td>\n",
              "      <td>22</td>\n",
              "      <td>111.4348</td>\n",
              "      <td>3151.6087</td>\n",
              "    </tr>\n",
              "    <tr>\n",
              "      <th>...</th>\n",
              "      <td>...</td>\n",
              "      <td>...</td>\n",
              "      <td>...</td>\n",
              "      <td>...</td>\n",
              "      <td>...</td>\n",
              "      <td>...</td>\n",
              "      <td>...</td>\n",
              "      <td>...</td>\n",
              "      <td>...</td>\n",
              "      <td>...</td>\n",
              "      <td>...</td>\n",
              "      <td>...</td>\n",
              "      <td>...</td>\n",
              "      <td>...</td>\n",
              "      <td>...</td>\n",
              "      <td>...</td>\n",
              "      <td>...</td>\n",
              "      <td>...</td>\n",
              "      <td>...</td>\n",
              "      <td>...</td>\n",
              "      <td>...</td>\n",
              "      <td>...</td>\n",
              "    </tr>\n",
              "    <tr>\n",
              "      <th>4149</th>\n",
              "      <td>131920</td>\n",
              "      <td>364</td>\n",
              "      <td>6974</td>\n",
              "      <td>651.7651</td>\n",
              "      <td>170.1531</td>\n",
              "      <td>4.8019</td>\n",
              "      <td>0.3419</td>\n",
              "      <td>7.0540</td>\n",
              "      <td>2335</td>\n",
              "      <td>59.5890</td>\n",
              "      <td>1840.8744</td>\n",
              "      <td>254</td>\n",
              "      <td>534</td>\n",
              "      <td>1</td>\n",
              "      <td>3.4536</td>\n",
              "      <td>0.2773</td>\n",
              "      <td>0.8105</td>\n",
              "      <td>0.3419</td>\n",
              "      <td>1.2767</td>\n",
              "      <td>12</td>\n",
              "      <td>6.7500</td>\n",
              "      <td>573.9167</td>\n",
              "    </tr>\n",
              "    <tr>\n",
              "      <th>1890</th>\n",
              "      <td>627949</td>\n",
              "      <td>150866</td>\n",
              "      <td>6820</td>\n",
              "      <td>246.4038</td>\n",
              "      <td>74.7054</td>\n",
              "      <td>21.2609</td>\n",
              "      <td>1.3207</td>\n",
              "      <td>15.2781</td>\n",
              "      <td>683</td>\n",
              "      <td>235.7873</td>\n",
              "      <td>11977.0434</td>\n",
              "      <td>1634478</td>\n",
              "      <td>12567</td>\n",
              "      <td>38425</td>\n",
              "      <td>12725.7097</td>\n",
              "      <td>4935.3354</td>\n",
              "      <td>21.7599</td>\n",
              "      <td>7.2622</td>\n",
              "      <td>16.6914</td>\n",
              "      <td>23939</td>\n",
              "      <td>24.4788</td>\n",
              "      <td>2299.0883</td>\n",
              "    </tr>\n",
              "    <tr>\n",
              "      <th>350</th>\n",
              "      <td>3525</td>\n",
              "      <td>3115</td>\n",
              "      <td>131</td>\n",
              "      <td>0.1005</td>\n",
              "      <td>0.1005</td>\n",
              "      <td>0.1005</td>\n",
              "      <td>0.1005</td>\n",
              "      <td>0.1005</td>\n",
              "      <td>0</td>\n",
              "      <td>0.0000</td>\n",
              "      <td>0.0000</td>\n",
              "      <td>39262</td>\n",
              "      <td>848</td>\n",
              "      <td>1610</td>\n",
              "      <td>40.4950</td>\n",
              "      <td>8.9436</td>\n",
              "      <td>3.2277</td>\n",
              "      <td>0.5643</td>\n",
              "      <td>1.0703</td>\n",
              "      <td>163</td>\n",
              "      <td>132.0307</td>\n",
              "      <td>2931.5153</td>\n",
              "    </tr>\n",
              "    <tr>\n",
              "      <th>79</th>\n",
              "      <td>657</td>\n",
              "      <td>501</td>\n",
              "      <td>59</td>\n",
              "      <td>0.5273</td>\n",
              "      <td>0.1005</td>\n",
              "      <td>0.1005</td>\n",
              "      <td>0.1005</td>\n",
              "      <td>0.1005</td>\n",
              "      <td>2</td>\n",
              "      <td>313.5000</td>\n",
              "      <td>3283.5000</td>\n",
              "      <td>1393</td>\n",
              "      <td>266</td>\n",
              "      <td>49</td>\n",
              "      <td>11.4794</td>\n",
              "      <td>2.5126</td>\n",
              "      <td>1.1086</td>\n",
              "      <td>0.3569</td>\n",
              "      <td>2.0942</td>\n",
              "      <td>46</td>\n",
              "      <td>64.1087</td>\n",
              "      <td>1198.4348</td>\n",
              "    </tr>\n",
              "    <tr>\n",
              "      <th>3927</th>\n",
              "      <td>10693</td>\n",
              "      <td>935</td>\n",
              "      <td>12</td>\n",
              "      <td>0.6344</td>\n",
              "      <td>0.3675</td>\n",
              "      <td>0.3675</td>\n",
              "      <td>0.1005</td>\n",
              "      <td>0.3675</td>\n",
              "      <td>2</td>\n",
              "      <td>50.5000</td>\n",
              "      <td>3452.5000</td>\n",
              "      <td>580544</td>\n",
              "      <td>2799</td>\n",
              "      <td>7371</td>\n",
              "      <td>296.9782</td>\n",
              "      <td>135.8314</td>\n",
              "      <td>15.0330</td>\n",
              "      <td>4.8072</td>\n",
              "      <td>8.2621</td>\n",
              "      <td>1201</td>\n",
              "      <td>87.1838</td>\n",
              "      <td>3547.7823</td>\n",
              "    </tr>\n",
              "  </tbody>\n",
              "</table>\n",
              "<p>4125 rows × 22 columns</p>\n",
              "</div>"
            ],
            "text/plain": [
              "      A_follower_count  ...  B_network_feature_3\n",
              "2264            541611  ...             495.7778\n",
              "1169             15385  ...               0.0000\n",
              "1087              1221  ...            1809.6505\n",
              "946             242529  ...            6522.9921\n",
              "774               2203  ...            3151.6087\n",
              "...                ...  ...                  ...\n",
              "4149            131920  ...             573.9167\n",
              "1890            627949  ...            2299.0883\n",
              "350               3525  ...            2931.5153\n",
              "79                 657  ...            1198.4348\n",
              "3927             10693  ...            3547.7823\n",
              "\n",
              "[4125 rows x 22 columns]"
            ]
          },
          "metadata": {
            "tags": []
          },
          "execution_count": 146
        }
      ]
    },
    {
      "cell_type": "markdown",
      "metadata": {
        "id": "f9dqUF-CKw3g"
      },
      "source": [
        "## ModelA  Definition\n",
        "Model Used: Random Forest Classifier"
      ]
    },
    {
      "cell_type": "code",
      "metadata": {
        "id": "km2aZH9zKujS",
        "colab": {
          "base_uri": "https://localhost:8080/"
        },
        "outputId": "744f40e3-02af-4a24-9ff7-df923dd00382"
      },
      "source": [
        "# Defining with default Hyperparameters\n",
        "\n",
        "acc_score = dict()\n",
        "rfc = RandomForestClassifier(n_estimators= 200)\n",
        "rfc.fit(X= ax_train, y =ay_train )\n",
        "rfc_ay_pred = rfc.predict(ax_test)\n",
        "acc_score['RFC'] = accuracy_score(ay_test,rfc_ay_pred)"
      ],
      "execution_count": 148,
      "outputs": [
        {
          "output_type": "stream",
          "text": [
            "/usr/local/lib/python3.6/dist-packages/ipykernel_launcher.py:5: DataConversionWarning: A column-vector y was passed when a 1d array was expected. Please change the shape of y to (n_samples,), for example using ravel().\n",
            "  \"\"\"\n"
          ],
          "name": "stderr"
        }
      ]
    },
    {
      "cell_type": "code",
      "metadata": {
        "colab": {
          "base_uri": "https://localhost:8080/"
        },
        "id": "vs8OA-Hy7cIQ",
        "outputId": "c6bc4920-4d9f-4cac-9247-e77e220fba0b"
      },
      "source": [
        "# Getting Important features from RF Classifier\n",
        "A_feature_imp = pd.Series(rfc.feature_importances_, index = predictors).sort_values(ascending = False)\n",
        "A_feature_imp"
      ],
      "execution_count": 149,
      "outputs": [
        {
          "output_type": "execute_result",
          "data": {
            "text/plain": [
              "A_follower_count       0.0782\n",
              "B_network_feature_1    0.0778\n",
              "B_listed_count         0.0740\n",
              "A_network_feature_1    0.0723\n",
              "A_listed_count         0.0699\n",
              "B_mentions_received    0.0652\n",
              "A_mentions_received    0.0613\n",
              "B_follower_count       0.0564\n",
              "B_retweets_received    0.0494\n",
              "A_retweets_received    0.0450\n",
              "A_following_count      0.0328\n",
              "A_posts                0.0326\n",
              "B_network_feature_3    0.0325\n",
              "A_network_feature_3    0.0324\n",
              "B_following_count      0.0316\n",
              "B_network_feature_2    0.0311\n",
              "B_mentions_sent        0.0308\n",
              "B_posts                0.0298\n",
              "A_network_feature_2    0.0290\n",
              "A_mentions_sent        0.0278\n",
              "B_retweets_sent        0.0209\n",
              "A_retweets_sent        0.0192\n",
              "dtype: float64"
            ]
          },
          "metadata": {
            "tags": []
          },
          "execution_count": 149
        }
      ]
    },
    {
      "cell_type": "code",
      "metadata": {
        "colab": {
          "base_uri": "https://localhost:8080/",
          "height": 621
        },
        "id": "3ev7n_HouhdE",
        "outputId": "454a45a7-4bd1-4cd6-e33f-a4a989f8eb38"
      },
      "source": [
        "# Creating a barplot\n",
        "fig_feat_imp = plt.figure(figsize= (12,10))\n",
        "sns.barplot(x = A_feature_imp, y = A_feature_imp.index)\n",
        "plt.xlabel('Feature Score')\n",
        "plt.ylabel('Important Features')\n",
        "plt.title('Visualizing Important Features')\n",
        "# plt.legend()\n",
        "plt.show()\n"
      ],
      "execution_count": 150,
      "outputs": [
        {
          "output_type": "display_data",
          "data": {
            "image/png": "[encoded data removed]",
            "text/plain": [
              "<Figure size 864x720 with 1 Axes>"
            ]
          },
          "metadata": {
            "tags": [],
            "needs_background": "light"
          }
        }
      ]
    },
    {
      "cell_type": "markdown",
      "metadata": {
        "id": "-N96-sdcF_1O"
      },
      "source": [
        "The above diagram shows that none of the features are strong rather the dataset has very weak features. \n",
        "\n",
        "For datasets with weak features **Boosting** based classifiers gives best performance.\n",
        "\n",
        "Here we'll be using *Gradient boost*"
      ]
    },
    {
      "cell_type": "code",
      "metadata": {
        "id": "_AE7FKcqMhMZ",
        "colab": {
          "base_uri": "https://localhost:8080/"
        },
        "outputId": "134d4d88-a850-48ee-8745-2d51b6b3e931"
      },
      "source": [
        "gbclf = GradientBoostingClassifier(n_estimators= 500,learning_rate=0.1, subsample=0.9, max_depth=2, max_features=15 )\n",
        "gbclf.fit(X=ax_train, y=ay_train)\n",
        "gbclf_ay_pred = gbclf.predict(ax_test)\n",
        "acc_score['GB'] = accuracy_score(ay_test, gbclf_ay_pred)\n"
      ],
      "execution_count": 151,
      "outputs": [
        {
          "output_type": "stream",
          "text": [
            "/usr/local/lib/python3.6/dist-packages/sklearn/ensemble/_gb.py:1454: DataConversionWarning: A column-vector y was passed when a 1d array was expected. Please change the shape of y to (n_samples, ), for example using ravel().\n",
            "  y = column_or_1d(y, warn=True)\n"
          ],
          "name": "stderr"
        },
        {
          "output_type": "execute_result",
          "data": {
            "text/plain": [
              "{'GB': 0.7803636363636364, 'RFC': 0.7767272727272727}"
            ]
          },
          "metadata": {
            "tags": []
          },
          "execution_count": 151
        }
      ]
    },
    {
      "cell_type": "code",
      "metadata": {
        "colab": {
          "base_uri": "https://localhost:8080/",
          "height": 297
        },
        "id": "p7xpfBKILHD3",
        "outputId": "8c6435e0-a041-499b-b286-e2557a0a0618"
      },
      "source": [
        "# Plotting Confusion Matrix\n",
        "np.set_printoptions(precision=4,floatmode='fixed')\n",
        "plot_confusion_matrix(gbclf,ax_test, ay_test,cmap=plt.cm.Blues,values_format='.2f', title = \"Model A Confusion Matrix \")\n",
        "                                 "
      ],
      "execution_count": 152,
      "outputs": [
        {
          "output_type": "execute_result",
          "data": {
            "text/plain": [
              "<sklearn.metrics._plot.confusion_matrix.ConfusionMatrixDisplay at 0x7f41dd3a27f0>"
            ]
          },
          "metadata": {
            "tags": []
          },
          "execution_count": 152
        },
        {
          "output_type": "display_data",
          "data": {
            "image/png": "[encoded data removed]",
            "text/plain": [
              "<Figure size 432x288 with 2 Axes>"
            ]
          },
          "metadata": {
            "tags": [],
            "needs_background": "light"
          }
        }
      ]
    },
    {
      "cell_type": "markdown",
      "metadata": {
        "id": "dUtQ0wjWNqah"
      },
      "source": [
        "## Model B Training"
      ]
    },
    {
      "cell_type": "code",
      "metadata": {
        "id": "Anua6eQ7CXs_"
      },
      "source": [
        "# Removing A_retweets_sent & B_retweets_sent\n",
        "bx_train = ax_train.drop(['B_retweets_sent','A_retweets_sent'], axis = 1)\n",
        "bx_test = ax_test.drop(['B_retweets_sent','A_retweets_sent'], axis = 1)\n",
        "\n",
        "# No Change in Target column\n",
        "by_train = ay_train\n",
        "by_test = ay_test"
      ],
      "execution_count": 153,
      "outputs": []
    },
    {
      "cell_type": "code",
      "metadata": {
        "colab": {
          "base_uri": "https://localhost:8080/"
        },
        "id": "IoK16w9FNyxE",
        "outputId": "14692751-eaa9-4703-aedc-61c17196ec26"
      },
      "source": [
        "# Model Training Stochiatic Gradient Boosting\n",
        "B_gbclf = GradientBoostingClassifier(n_estimators= 500,learning_rate=0.1, subsample=0.8, max_depth=2, max_features=15)\n",
        "B_gbclf.fit(X=bx_train, y=by_train)\n",
        "gbclf_by_pred = B_gbclf.predict(bx_test)\n",
        "acc_score['B_GB'] = accuracy_score(by_test, gbclf_by_pred)\n"
      ],
      "execution_count": 154,
      "outputs": [
        {
          "output_type": "stream",
          "text": [
            "/usr/local/lib/python3.6/dist-packages/sklearn/ensemble/_gb.py:1454: DataConversionWarning: A column-vector y was passed when a 1d array was expected. Please change the shape of y to (n_samples, ), for example using ravel().\n",
            "  y = column_or_1d(y, warn=True)\n"
          ],
          "name": "stderr"
        }
      ]
    },
    {
      "cell_type": "code",
      "metadata": {
        "colab": {
          "base_uri": "https://localhost:8080/",
          "height": 329
        },
        "id": "nxNBmAmkOf0b",
        "outputId": "2a0a1636-939c-48ec-8efc-f3c8719b4f90"
      },
      "source": [
        "# Plotting Confusion Matrix\n",
        "fig_B_conf_matrix = plt.figure(figsize= (12,10))\n",
        "disp = plot_confusion_matrix(B_gbclf,bx_test, by_test,cmap=plt.cm.Oranges,values_format='.2f')\n",
        "disp.ax_.set_title(\"Model B Confusion Matrix \")"
      ],
      "execution_count": 164,
      "outputs": [
        {
          "output_type": "execute_result",
          "data": {
            "text/plain": [
              "Text(0.5, 1.0, 'Model B Confusion Matrix ')"
            ]
          },
          "metadata": {
            "tags": []
          },
          "execution_count": 164
        },
        {
          "output_type": "display_data",
          "data": {
            "text/plain": [
              "<Figure size 864x720 with 0 Axes>"
            ]
          },
          "metadata": {
            "tags": []
          }
        },
        {
          "output_type": "display_data",
          "data": {
            "image/png": "[encoded data removed]",
            "text/plain": [
              "<Figure size 432x288 with 2 Axes>"
            ]
          },
          "metadata": {
            "tags": [],
            "needs_background": "light"
          }
        }
      ]
    }
  ]
}